{
  "nbformat": 4,
  "nbformat_minor": 0,
  "metadata": {
    "colab": {
      "provenance": []
    },
    "kernelspec": {
      "name": "python3",
      "display_name": "Python 3"
    },
    "language_info": {
      "name": "python"
    }
  },
  "cells": [
    {
      "cell_type": "markdown",
      "source": [],
      "metadata": {
        "id": "HzdLfHb0FxFh"
      }
    },
    {
      "cell_type": "markdown",
      "source": [
        "# Python Basics Questions"
      ],
      "metadata": {
        "id": "_darxwtpF0PB"
      }
    },
    {
      "cell_type": "markdown",
      "source": [
        "** Python Basics Questions **\n",
        "\n",
        "Q-1 : What is Python and why is it popular?\n",
        ">Python is a versatile, high-level, interpreted programming language known for its readability and ease of use. It's popular due to its simple syntax, extensive libraries, and adaptability to various fields like web development, data science, and machine learning.\n",
        "\n",
        "Q-2 :  What is an interpreter in Python?\n",
        ">In Python, an interpreter is a program that reads and executes Python code line by line, without needing to be compiled into machine code before execution. It translates the code into a form the computer can understand and runs it directly.\n",
        "\n",
        "Q-3 : What are pre-defined keywords in Python?\n",
        ">Pre-defined keywords in Python are reserved words that have special meanings and serve specific purposes in the language syntax. Python keywords cannot be used as the names of variables, functions, and classes or any other identifier.\n",
        "\n",
        "Q-4 : Can keywords be used as variable names?\n",
        ">No, keywords cannot be used as variable names in programming languages like C, C++, Python, and Java. Keywords have specific, predefined meanings within the language and are used for syntax and structure. Using them as variable names would lead to ambiguity and errors because the compiler/interpreter would not know if you're referring to a variable or a keyword.\n",
        "\n",
        "Q-5 : What is mutability in Python?\n",
        ">An object is considered mutable if its state or value can be modified after it is created. This means we can alter its internal data or attributes without creating a new object. Examples of mutable objects in Python include lists, dictionaries, and sets.\n",
        "\n",
        "Q-6 : Why are lists mutable, but tuples are immutable?\n",
        ">lists in python are mutable because it can be changed after creation. so programmer can change the inside data of a list anytime.\n",
        "\n",
        ">Tuples in python are immutable because it can't be changed after creation. So programmer can't change the inside data of a tuple.\n",
        "\n",
        "Q-7 : What is the difference between “==” and “is” operators in Python?\n",
        "*  \"==\" focuses on value equality, while \"is\" focuses on object identity.\n",
        "*  Two objects can have the same value (== returns True) but not be the same object (is returns False).\n",
        "* \"is\" is often used to compare with singletons like None or boolean values, ensuring they are the exact same object in memory. \"==\" is used to compare the contents of objects, such as strings or lists.\n",
        "\n",
        "Q-8 : What are logical operators in Python?\n",
        ">Logical operators in Python are used to combine or modify boolean expressions. They return boolean values, which are either True or False. There are three main logical operators in Python:\n",
        "\n",
        "1. and : This operator returns True if both operands are True. Otherwise, it returns False.\n",
        "2. or : This operator returns True if at least one of the operands is True. It returns False only if both operands are False.\n",
        "3. not : This operator returns the opposite boolean value of its operand. If the operand is True, it returns False, and vice versa.\n",
        "\n",
        "These logical operators are often used in conditional statements to control the flow of execution in a program.\n",
        "\n",
        "Q-9 : What is type casting in Python?\n",
        ">Type Casting is the method to convert the Python variable datatype into a certain data type in order to perform the required operation by users.\n",
        "\n",
        "Q-10 : What is the difference between implicit and explicit type casting?\n",
        "1. Implicit type casting: This occurs automatically when Python converts one data type to another without explicit user intervention. For example, when you add an integer and a float, Python automatically converts the integer to a float before performing the addition.\n",
        "2. Explicit type casting: This occurs when you explicitly use built-in functions to convert a variable from one data type to another. Common functions for explicit type casting include:\n",
        "* int(): Converts a value to an integer.\n",
        "* float(): Converts a value to a floating-point number.\n",
        "* str(): Converts a value to a string.\n",
        "* list(): Converts a sequence (like a string or tuple) to a list.\n",
        "* tuple(): Converts a sequence (like a string or list) to a tuple.\n",
        "\n",
        "Q-11 : What is the purpose of conditional statements in Python?\n",
        ">Conditional statements in Python are used to control the flow of execution of a program based on whether a specific condition is true or false. They allow the program to make decisions and execute different code blocks depending on the situation.\n",
        "Here are the main types of conditional statements in Python:\n",
        "* if Statement:\n",
        "This statement executes a block of code only if a specified condition is true.\n",
        "* if-else Statement:\n",
        "This statement executes a block of code if the condition is true and another block of code if the condition is false.\n",
        "* if-elif-else Statement:\n",
        "This statement allows you to check multiple conditions in sequence. It executes the block of code corresponding to the first true condition and executes the else block if none of the conditions are true.\n",
        "\n",
        "These statements are essential for creating dynamic and versatile programs that can handle different scenarios and user inputs.\n",
        "\n",
        "Q-12 :  How does the elif statement work?\n",
        ">‘Elif’ stands for ‘else if’ and is used in Python programming to test multiple conditions. It is written following an if statement in Python to check an alternative condition if the first condition is false. The code block under the elif statement will be executed only if its condition is true.\n",
        "\n",
        "Q-13 : What is the difference between for and while loops?\n",
        "1. for loops :\n",
        "* The for loop is used when you know in advance how many times you want to execute the block of code.\n",
        "* It iterates over a sequence (e.g., a list, tuple, string, or range) and executes the block of code for each item in the sequence.\n",
        "* The loop variable (variable) takes the value of each item in the sequence during each iteration.\n",
        "\n",
        "2. while loop :\n",
        "* The while loop is used when you don't know in advance how many times you want to execute the block of code. It continues to execute as long as the specified condition is true.\n",
        "* It's important to make sure that the condition eventually becomes false; otherwise, the loop will run indefinitely, resulting in an infinite loop.\n",
        "\n",
        "Q-14 : Describe a scenario where a while loop is more suitable than a for loop.\n",
        ">While loop is used to repeatedly execute a block of statements while a condition is true. While loop is used when the number of iterations is not known in advance or when we want to repeat a block of code until a certain condition is met. While loop is used for more complex control flow situations. While a loop may be more efficient in certain situations where the condition being tested can be evaluated quickly.\n"
      ],
      "metadata": {
        "id": "zyA2HEC_dQ1j"
      }
    },
    {
      "cell_type": "markdown",
      "source": [
        "# Practical Questions"
      ],
      "metadata": {
        "id": "gE9s6cPEGLng"
      }
    },
    {
      "cell_type": "code",
      "source": [
        "#  Q-1 : Write a Python program to print \"Hello, World!\"\n",
        "print (\"Hello, World!\")"
      ],
      "metadata": {
        "colab": {
          "base_uri": "https://localhost:8080/"
        },
        "id": "5ZnfUQvZJqvj",
        "outputId": "b04f36fe-32dc-4d6f-bf8f-8e06968960dd"
      },
      "execution_count": null,
      "outputs": [
        {
          "output_type": "stream",
          "name": "stdout",
          "text": [
            "Hello, World!\n"
          ]
        }
      ]
    },
    {
      "cell_type": "code",
      "source": [
        "# Q-2 : Write a Python program that displays your name and age.\n",
        "Name = \"Sagar Mitra\"\n",
        "Age = 22\n",
        "print(\"My name is\", Name)\n",
        "print(\"I am\",Age, \"years old.\")"
      ],
      "metadata": {
        "colab": {
          "base_uri": "https://localhost:8080/"
        },
        "id": "5-Ry6wY_KIJx",
        "outputId": "73426fc2-737e-4f75-e02a-c5867fc6d2c7"
      },
      "execution_count": null,
      "outputs": [
        {
          "output_type": "stream",
          "name": "stdout",
          "text": [
            "My name is Sagar Mitra\n",
            "I am 22 years old.\n"
          ]
        }
      ]
    },
    {
      "cell_type": "code",
      "source": [
        "# Q-3 : Write code to print all the pre-defined keywords in Python using the keyword library.\n",
        "import keyword\n",
        "print(keyword.kwlist)"
      ],
      "metadata": {
        "colab": {
          "base_uri": "https://localhost:8080/"
        },
        "id": "dHwkIUrJLZly",
        "outputId": "f4e07dbe-ca10-4303-a643-aea2707fb396"
      },
      "execution_count": null,
      "outputs": [
        {
          "output_type": "stream",
          "name": "stdout",
          "text": [
            "['False', 'None', 'True', 'and', 'as', 'assert', 'async', 'await', 'break', 'class', 'continue', 'def', 'del', 'elif', 'else', 'except', 'finally', 'for', 'from', 'global', 'if', 'import', 'in', 'is', 'lambda', 'nonlocal', 'not', 'or', 'pass', 'raise', 'return', 'try', 'while', 'with', 'yield']\n"
          ]
        }
      ]
    },
    {
      "cell_type": "code",
      "source": [
        "# Q-4 : Write a program that checks if a given word is a Python keyword.\n",
        "x = input(\"Enter word : \")\n",
        "if (keyword.iskeyword(x)):\n",
        "  print(x, \"is a keyword\")\n",
        "else:\n",
        "  print(x, \"is not a keyword\")"
      ],
      "metadata": {
        "colab": {
          "base_uri": "https://localhost:8080/"
        },
        "id": "QiZryg_mNYHa",
        "outputId": "8afc2272-284a-44e8-87c4-5b8ed7b8a752"
      },
      "execution_count": null,
      "outputs": [
        {
          "output_type": "stream",
          "name": "stdout",
          "text": [
            "Enter word : for\n",
            "for is a keyword\n"
          ]
        }
      ]
    },
    {
      "cell_type": "code",
      "source": [
        "# Q-5 : Create a list and tuple in Python, and demonstrate how attempting to change an element works differently for each.\n",
        "my_list = [1,3,5,7]\n",
        "print(\"Origina list :\",my_list)\n",
        "my_list[2]=100\n",
        "print(\"Modified list :\",my_list)"
      ],
      "metadata": {
        "colab": {
          "base_uri": "https://localhost:8080/"
        },
        "id": "8Z5QHiJIDTQX",
        "outputId": "562a6daf-2adf-4750-90db-6195145185c3"
      },
      "execution_count": null,
      "outputs": [
        {
          "output_type": "stream",
          "name": "stdout",
          "text": [
            "Origina list : [1, 3, 5, 7]\n",
            "Modified list : [1, 3, 100, 7]\n"
          ]
        }
      ]
    },
    {
      "cell_type": "code",
      "source": [
        "my_tuple = (1,3,5,7)\n",
        "print(\"Original tuple :\",my_tuple)\n",
        "my_tuple(2)=100\n",
        "print(\"Modified tuple :\",my_tuple)"
      ],
      "metadata": {
        "colab": {
          "base_uri": "https://localhost:8080/",
          "height": 106
        },
        "id": "OjYoq_LRFtcC",
        "outputId": "559d74f1-b454-4fd7-b84f-46ca6ea1e606"
      },
      "execution_count": null,
      "outputs": [
        {
          "output_type": "error",
          "ename": "SyntaxError",
          "evalue": "cannot assign to function call here. Maybe you meant '==' instead of '='? (<ipython-input-7-c314150cc061>, line 3)",
          "traceback": [
            "\u001b[0;36m  File \u001b[0;32m\"<ipython-input-7-c314150cc061>\"\u001b[0;36m, line \u001b[0;32m3\u001b[0m\n\u001b[0;31m    my_tuple(2)=100\u001b[0m\n\u001b[0m    ^\u001b[0m\n\u001b[0;31mSyntaxError\u001b[0m\u001b[0;31m:\u001b[0m cannot assign to function call here. Maybe you meant '==' instead of '='?\n"
          ]
        }
      ]
    },
    {
      "cell_type": "code",
      "source": [
        "# Q-6 : Write a function to demonstrate the behavior of mutable and immutable arguments.\n",
        "my_list = [1,3,5,7]\n",
        "print(\"Origina list :\",my_list)\n",
        "my_list[2]=100\n",
        "print(\"Modified list :\",my_list)"
      ],
      "metadata": {
        "colab": {
          "base_uri": "https://localhost:8080/"
        },
        "id": "KdGX2yyjGDyG",
        "outputId": "0266dc7c-3061-4a25-9171-f75b2968fcc8"
      },
      "execution_count": null,
      "outputs": [
        {
          "output_type": "stream",
          "name": "stdout",
          "text": [
            "Origina list : [1, 3, 5, 7]\n",
            "Modified list : [1, 3, 100, 7]\n"
          ]
        }
      ]
    },
    {
      "cell_type": "code",
      "source": [
        "my_tuple = (1,3,5,7)\n",
        "print(\"Original tuple :\",my_tuple)\n",
        "my_tuple(2)=100\n",
        "print(\"Modified tuple :\",my_tuple)"
      ],
      "metadata": {
        "colab": {
          "base_uri": "https://localhost:8080/",
          "height": 106
        },
        "id": "mrCwyzbuHeM3",
        "outputId": "3b6bd327-e535-455f-c874-f8387b2af9b1"
      },
      "execution_count": null,
      "outputs": [
        {
          "output_type": "error",
          "ename": "SyntaxError",
          "evalue": "cannot assign to function call here. Maybe you meant '==' instead of '='? (<ipython-input-9-c314150cc061>, line 3)",
          "traceback": [
            "\u001b[0;36m  File \u001b[0;32m\"<ipython-input-9-c314150cc061>\"\u001b[0;36m, line \u001b[0;32m3\u001b[0m\n\u001b[0;31m    my_tuple(2)=100\u001b[0m\n\u001b[0m    ^\u001b[0m\n\u001b[0;31mSyntaxError\u001b[0m\u001b[0;31m:\u001b[0m cannot assign to function call here. Maybe you meant '==' instead of '='?\n"
          ]
        }
      ]
    },
    {
      "cell_type": "code",
      "source": [
        "# Q-7 :  Write a program that performs basic arithmetic operations on two user-input numbers.\n",
        "x=float(input(\"Enter 1st number : \"))\n",
        "y=float(input(\"Enter 2nd number : \"))\n",
        "print(\"Adiition of two number :\", x+y)\n",
        "print(\"Substraction of two number :\", x-y)\n",
        "print(\"Multiplication of two number :\",x*y)\n",
        "print(\"Division of two number :\",x/y)"
      ],
      "metadata": {
        "colab": {
          "base_uri": "https://localhost:8080/"
        },
        "id": "8Ygm6cbjHkDv",
        "outputId": "08d4ef33-e628-421f-8b99-97d84874b228"
      },
      "execution_count": null,
      "outputs": [
        {
          "output_type": "stream",
          "name": "stdout",
          "text": [
            "Enter 1st number : 10\n",
            "Enter 2nd number : 5\n",
            "Adiition of two number : 15.0\n",
            "Substraction of two number : 5.0\n",
            "Multiplication of two number : 50.0\n",
            "Division of two number : 2.0\n"
          ]
        }
      ]
    },
    {
      "cell_type": "code",
      "source": [
        "# Q-8 : Write a program to demonstrate the use of logical operators.\n",
        "x = 5\n",
        "# Logical AND: Returns True if both statements are true\n",
        "print(x > 3 and x < 10)\n",
        "print(x > 3 and x > 10)\n",
        "# Logical OR: Returns True if one of the statements is true\n",
        "print(x > 3 or x < 4)\n",
        "print(x > 10 or x < 4)\n",
        "# Logical NOT: Reverses the result, returns False if the result is true\n",
        "print(not(x > 3 and x < 10))\n",
        "print(not(x > 10))"
      ],
      "metadata": {
        "colab": {
          "base_uri": "https://localhost:8080/"
        },
        "id": "mPlHHfj-JRuX",
        "outputId": "8a0226cf-1723-4f76-b2d3-17c6202f793e"
      },
      "execution_count": null,
      "outputs": [
        {
          "output_type": "stream",
          "name": "stdout",
          "text": [
            "True\n",
            "False\n",
            "True\n",
            "False\n",
            "False\n",
            "True\n"
          ]
        }
      ]
    },
    {
      "cell_type": "code",
      "source": [
        "# Q-9 : Write a Python program to convert user input from string to integer, float, and boolean types\n",
        "x = \"5\"\n",
        "print(\"Type of x :\",type(x))\n",
        "# string to integer\n",
        "x = int(x)\n",
        "print(\"Type of x :\",type(x))\n",
        "# string to float\n",
        "x = float(x)\n",
        "print(\"Type of x :\",type(x))\n",
        "# string to boolean\n",
        "x = bool(x)\n",
        "print(\"Type of x :\",type(x))"
      ],
      "metadata": {
        "colab": {
          "base_uri": "https://localhost:8080/"
        },
        "id": "DW6eOIh-LG2g",
        "outputId": "36079079-f910-4390-c870-1023119c04a1"
      },
      "execution_count": null,
      "outputs": [
        {
          "output_type": "stream",
          "name": "stdout",
          "text": [
            "Type of x : <class 'str'>\n",
            "Type of x : <class 'int'>\n",
            "Type of x : <class 'float'>\n",
            "Type of x : <class 'bool'>\n"
          ]
        }
      ]
    },
    {
      "cell_type": "code",
      "source": [
        "# Q-10 : Write code to demonstrate type casting with list elements.\n",
        "my_list = [1, 2, 3.14, \"4\", True]\n",
        "print(\"Type of 4 :\", type(my_list[3]))\n",
        "print(\"Type of True :\", type(my_list[4]))\n",
        "#converting str \"4\" into integer 4\n",
        "my_list[3]=int(my_list[3])\n",
        "print(\"Type of 4 :\", type(my_list[3]))\n",
        "print(\"my_list :\", my_list)\n",
        "#converting boolean into integer\n",
        "my_list[4]=int(my_list[4])\n",
        "print(\"Type of True :\", type(my_list[4]))\n",
        "print(\"my_list :\", my_list)"
      ],
      "metadata": {
        "colab": {
          "base_uri": "https://localhost:8080/"
        },
        "id": "cMG4DesUMrZI",
        "outputId": "9018d9b1-ec2c-4e4a-8a03-aa7138c8f1f5"
      },
      "execution_count": null,
      "outputs": [
        {
          "output_type": "stream",
          "name": "stdout",
          "text": [
            "Type of 4 : <class 'str'>\n",
            "Type of True : <class 'bool'>\n",
            "Type of 4 : <class 'int'>\n",
            "my_list : [1, 2, 3.14, 4, True]\n",
            "Type of True : <class 'int'>\n",
            "my_list : [1, 2, 3.14, 4, 1]\n"
          ]
        }
      ]
    },
    {
      "cell_type": "code",
      "source": [
        "# Q-11 : Write a program that checks if a number is positive, negative, or zero\n",
        "x = int(input(\"Enter number : \"))\n",
        "if (x>0):\n",
        "  print(x, \"is positive\")\n",
        "elif (x<0):\n",
        "  print(x, \"is negetive\")\n",
        "else:\n",
        "  print(x, \"is Zero\")"
      ],
      "metadata": {
        "colab": {
          "base_uri": "https://localhost:8080/"
        },
        "id": "bAgJ3RIFQArX",
        "outputId": "f4fa01f2-2867-4ebc-9e9f-83bd3888bd63"
      },
      "execution_count": null,
      "outputs": [
        {
          "output_type": "stream",
          "name": "stdout",
          "text": [
            "Enter number : -10\n",
            "-10 is negetive\n"
          ]
        }
      ]
    },
    {
      "cell_type": "code",
      "source": [
        "# Q-12 : Write a for loop to print numbers from 1 to 10.\n",
        "for i in range(1,11):\n",
        "  print(i)"
      ],
      "metadata": {
        "colab": {
          "base_uri": "https://localhost:8080/"
        },
        "id": "wTmMHpocRZ1g",
        "outputId": "74295c10-a35b-4b0d-c90b-27befbb36c08"
      },
      "execution_count": null,
      "outputs": [
        {
          "output_type": "stream",
          "name": "stdout",
          "text": [
            "1\n",
            "2\n",
            "3\n",
            "4\n",
            "5\n",
            "6\n",
            "7\n",
            "8\n",
            "9\n",
            "10\n"
          ]
        }
      ]
    },
    {
      "cell_type": "code",
      "source": [
        "# Q-13 : Write a Python program to find the sum of all even numbers between 1 and 50.\n",
        "total = 0\n",
        "for number in range(2,51,2):\n",
        "  total += number\n",
        "print(\"Sum of all even number between 1 to 50 is \", total)\n"
      ],
      "metadata": {
        "colab": {
          "base_uri": "https://localhost:8080/"
        },
        "id": "oy5xK4umTa5R",
        "outputId": "03f3d2d6-9030-48d4-d82d-32228e64b7cf"
      },
      "execution_count": null,
      "outputs": [
        {
          "output_type": "stream",
          "name": "stdout",
          "text": [
            "Sum of all even number between 1 to 50 is  650\n"
          ]
        }
      ]
    },
    {
      "cell_type": "code",
      "source": [
        "# Q-14 : Write a program to reverse a string using a while loop.\n",
        "def reverse_string(s):\n",
        "    reversed_s = \"\"\n",
        "    length = len(s) - 1\n",
        "    while length >= 0:\n",
        "        reversed_s += s[length]\n",
        "        length -= 1\n",
        "    return reversed_s\n",
        "\n",
        "input_string = \"Hello World\"\n",
        "reversed_string = reverse_string(input_string)\n",
        "print(\"Original String:\", input_string)\n",
        "print(\"Reversed String:\", reversed_string)"
      ],
      "metadata": {
        "colab": {
          "base_uri": "https://localhost:8080/"
        },
        "id": "8qHDaPHxVDAp",
        "outputId": "74b8434e-96a5-4fce-967b-d93cf3e9cb74"
      },
      "execution_count": null,
      "outputs": [
        {
          "output_type": "stream",
          "name": "stdout",
          "text": [
            "Original String: Hello World\n",
            "Reversed String: dlroW olleH\n"
          ]
        }
      ]
    },
    {
      "cell_type": "code",
      "source": [
        "# Q-15 : Write a Python program to calculate the factorial of a number provided by the user using a while loop.\n",
        "n = int(input(\"Enter any number: \"))\n",
        "f = 1\n",
        "while n >= 1:\n",
        "    f *= n\n",
        "    n -= 1\n",
        "print(\"Factorial is\", f)"
      ],
      "metadata": {
        "colab": {
          "base_uri": "https://localhost:8080/"
        },
        "id": "QCErIJRtW8QA",
        "outputId": "58659f38-e707-46d6-c2a9-1e9a050940b8"
      },
      "execution_count": null,
      "outputs": [
        {
          "output_type": "stream",
          "name": "stdout",
          "text": [
            "Enter any number: 5\n",
            "Factorial is 120\n"
          ]
        }
      ]
    }
  ]
}